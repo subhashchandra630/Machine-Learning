{
  "nbformat": 4,
  "nbformat_minor": 0,
  "metadata": {
    "colab": {
      "provenance": [],
      "authorship_tag": "ABX9TyMIZaS8Y61W900S8bWHXCwx",
      "include_colab_link": true
    },
    "kernelspec": {
      "name": "python3",
      "display_name": "Python 3"
    },
    "language_info": {
      "name": "python"
    }
  },
  "cells": [
    {
      "cell_type": "markdown",
      "metadata": {
        "id": "view-in-github",
        "colab_type": "text"
      },
      "source": [
        "<a href=\"https://colab.research.google.com/github/subhashchandra630/Machine-Learning/blob/main/Luxury_watch_price_prediction_.ipynb\" target=\"_parent\"><img src=\"https://colab.research.google.com/assets/colab-badge.svg\" alt=\"Open In Colab\"/></a>"
      ]
    },
    {
      "cell_type": "code",
      "execution_count": 1,
      "metadata": {
        "id": "dMtH9kHRCrFp"
      },
      "outputs": [],
      "source": [
        "import pandas as pd\n",
        "import numpy as np\n"
      ]
    },
    {
      "cell_type": "code",
      "source": [
        "from google.colab import files\n",
        "upload=files.upload()\n"
      ],
      "metadata": {
        "colab": {
          "base_uri": "https://localhost:8080/",
          "height": 73
        },
        "id": "LaYKcIP9D_2Z",
        "outputId": "7e194c85-4b86-4a52-f252-55e49a83b74f"
      },
      "execution_count": 2,
      "outputs": [
        {
          "output_type": "display_data",
          "data": {
            "text/plain": [
              "<IPython.core.display.HTML object>"
            ],
            "text/html": [
              "\n",
              "     <input type=\"file\" id=\"files-f230b52f-11f1-442c-aed1-989fc1c99ae0\" name=\"files[]\" multiple disabled\n",
              "        style=\"border:none\" />\n",
              "     <output id=\"result-f230b52f-11f1-442c-aed1-989fc1c99ae0\">\n",
              "      Upload widget is only available when the cell has been executed in the\n",
              "      current browser session. Please rerun this cell to enable.\n",
              "      </output>\n",
              "      <script>// Copyright 2017 Google LLC\n",
              "//\n",
              "// Licensed under the Apache License, Version 2.0 (the \"License\");\n",
              "// you may not use this file except in compliance with the License.\n",
              "// You may obtain a copy of the License at\n",
              "//\n",
              "//      http://www.apache.org/licenses/LICENSE-2.0\n",
              "//\n",
              "// Unless required by applicable law or agreed to in writing, software\n",
              "// distributed under the License is distributed on an \"AS IS\" BASIS,\n",
              "// WITHOUT WARRANTIES OR CONDITIONS OF ANY KIND, either express or implied.\n",
              "// See the License for the specific language governing permissions and\n",
              "// limitations under the License.\n",
              "\n",
              "/**\n",
              " * @fileoverview Helpers for google.colab Python module.\n",
              " */\n",
              "(function(scope) {\n",
              "function span(text, styleAttributes = {}) {\n",
              "  const element = document.createElement('span');\n",
              "  element.textContent = text;\n",
              "  for (const key of Object.keys(styleAttributes)) {\n",
              "    element.style[key] = styleAttributes[key];\n",
              "  }\n",
              "  return element;\n",
              "}\n",
              "\n",
              "// Max number of bytes which will be uploaded at a time.\n",
              "const MAX_PAYLOAD_SIZE = 100 * 1024;\n",
              "\n",
              "function _uploadFiles(inputId, outputId) {\n",
              "  const steps = uploadFilesStep(inputId, outputId);\n",
              "  const outputElement = document.getElementById(outputId);\n",
              "  // Cache steps on the outputElement to make it available for the next call\n",
              "  // to uploadFilesContinue from Python.\n",
              "  outputElement.steps = steps;\n",
              "\n",
              "  return _uploadFilesContinue(outputId);\n",
              "}\n",
              "\n",
              "// This is roughly an async generator (not supported in the browser yet),\n",
              "// where there are multiple asynchronous steps and the Python side is going\n",
              "// to poll for completion of each step.\n",
              "// This uses a Promise to block the python side on completion of each step,\n",
              "// then passes the result of the previous step as the input to the next step.\n",
              "function _uploadFilesContinue(outputId) {\n",
              "  const outputElement = document.getElementById(outputId);\n",
              "  const steps = outputElement.steps;\n",
              "\n",
              "  const next = steps.next(outputElement.lastPromiseValue);\n",
              "  return Promise.resolve(next.value.promise).then((value) => {\n",
              "    // Cache the last promise value to make it available to the next\n",
              "    // step of the generator.\n",
              "    outputElement.lastPromiseValue = value;\n",
              "    return next.value.response;\n",
              "  });\n",
              "}\n",
              "\n",
              "/**\n",
              " * Generator function which is called between each async step of the upload\n",
              " * process.\n",
              " * @param {string} inputId Element ID of the input file picker element.\n",
              " * @param {string} outputId Element ID of the output display.\n",
              " * @return {!Iterable<!Object>} Iterable of next steps.\n",
              " */\n",
              "function* uploadFilesStep(inputId, outputId) {\n",
              "  const inputElement = document.getElementById(inputId);\n",
              "  inputElement.disabled = false;\n",
              "\n",
              "  const outputElement = document.getElementById(outputId);\n",
              "  outputElement.innerHTML = '';\n",
              "\n",
              "  const pickedPromise = new Promise((resolve) => {\n",
              "    inputElement.addEventListener('change', (e) => {\n",
              "      resolve(e.target.files);\n",
              "    });\n",
              "  });\n",
              "\n",
              "  const cancel = document.createElement('button');\n",
              "  inputElement.parentElement.appendChild(cancel);\n",
              "  cancel.textContent = 'Cancel upload';\n",
              "  const cancelPromise = new Promise((resolve) => {\n",
              "    cancel.onclick = () => {\n",
              "      resolve(null);\n",
              "    };\n",
              "  });\n",
              "\n",
              "  // Wait for the user to pick the files.\n",
              "  const files = yield {\n",
              "    promise: Promise.race([pickedPromise, cancelPromise]),\n",
              "    response: {\n",
              "      action: 'starting',\n",
              "    }\n",
              "  };\n",
              "\n",
              "  cancel.remove();\n",
              "\n",
              "  // Disable the input element since further picks are not allowed.\n",
              "  inputElement.disabled = true;\n",
              "\n",
              "  if (!files) {\n",
              "    return {\n",
              "      response: {\n",
              "        action: 'complete',\n",
              "      }\n",
              "    };\n",
              "  }\n",
              "\n",
              "  for (const file of files) {\n",
              "    const li = document.createElement('li');\n",
              "    li.append(span(file.name, {fontWeight: 'bold'}));\n",
              "    li.append(span(\n",
              "        `(${file.type || 'n/a'}) - ${file.size} bytes, ` +\n",
              "        `last modified: ${\n",
              "            file.lastModifiedDate ? file.lastModifiedDate.toLocaleDateString() :\n",
              "                                    'n/a'} - `));\n",
              "    const percent = span('0% done');\n",
              "    li.appendChild(percent);\n",
              "\n",
              "    outputElement.appendChild(li);\n",
              "\n",
              "    const fileDataPromise = new Promise((resolve) => {\n",
              "      const reader = new FileReader();\n",
              "      reader.onload = (e) => {\n",
              "        resolve(e.target.result);\n",
              "      };\n",
              "      reader.readAsArrayBuffer(file);\n",
              "    });\n",
              "    // Wait for the data to be ready.\n",
              "    let fileData = yield {\n",
              "      promise: fileDataPromise,\n",
              "      response: {\n",
              "        action: 'continue',\n",
              "      }\n",
              "    };\n",
              "\n",
              "    // Use a chunked sending to avoid message size limits. See b/62115660.\n",
              "    let position = 0;\n",
              "    do {\n",
              "      const length = Math.min(fileData.byteLength - position, MAX_PAYLOAD_SIZE);\n",
              "      const chunk = new Uint8Array(fileData, position, length);\n",
              "      position += length;\n",
              "\n",
              "      const base64 = btoa(String.fromCharCode.apply(null, chunk));\n",
              "      yield {\n",
              "        response: {\n",
              "          action: 'append',\n",
              "          file: file.name,\n",
              "          data: base64,\n",
              "        },\n",
              "      };\n",
              "\n",
              "      let percentDone = fileData.byteLength === 0 ?\n",
              "          100 :\n",
              "          Math.round((position / fileData.byteLength) * 100);\n",
              "      percent.textContent = `${percentDone}% done`;\n",
              "\n",
              "    } while (position < fileData.byteLength);\n",
              "  }\n",
              "\n",
              "  // All done.\n",
              "  yield {\n",
              "    response: {\n",
              "      action: 'complete',\n",
              "    }\n",
              "  };\n",
              "}\n",
              "\n",
              "scope.google = scope.google || {};\n",
              "scope.google.colab = scope.google.colab || {};\n",
              "scope.google.colab._files = {\n",
              "  _uploadFiles,\n",
              "  _uploadFilesContinue,\n",
              "};\n",
              "})(self);\n",
              "</script> "
            ]
          },
          "metadata": {}
        },
        {
          "output_type": "stream",
          "name": "stdout",
          "text": [
            "Saving Luxury watch.csv to Luxury watch.csv\n"
          ]
        }
      ]
    },
    {
      "cell_type": "code",
      "source": [
        "df=pd.read_csv(\"Luxury watch.csv\")\n",
        "df.head()\n",
        "df2=df"
      ],
      "metadata": {
        "id": "w4q2Q588EF_R"
      },
      "execution_count": 3,
      "outputs": []
    },
    {
      "cell_type": "code",
      "source": [
        "df.dtypes"
      ],
      "metadata": {
        "colab": {
          "base_uri": "https://localhost:8080/"
        },
        "id": "kqR-PLqqE6sU",
        "outputId": "43de65f7-9a6e-4f50-b4fb-2e98770e6d0a"
      },
      "execution_count": 4,
      "outputs": [
        {
          "output_type": "execute_result",
          "data": {
            "text/plain": [
              "Brand                   object\n",
              "Model                   object\n",
              "Case Material           object\n",
              "Strap Material          object\n",
              "Movement Type           object\n",
              "Water Resistance        object\n",
              "Case Diameter (mm)     float64\n",
              "Case Thickness (mm)    float64\n",
              "Band Width (mm)        float64\n",
              "Dial Color              object\n",
              "Crystal Material        object\n",
              "Complications           object\n",
              "Power Reserve           object\n",
              "Price (USD)             object\n",
              "dtype: object"
            ]
          },
          "metadata": {},
          "execution_count": 4
        }
      ]
    },
    {
      "cell_type": "code",
      "source": [
        "df.isnull().sum()"
      ],
      "metadata": {
        "colab": {
          "base_uri": "https://localhost:8080/"
        },
        "id": "lrkqfu29E-E2",
        "outputId": "a7ff2794-e5dc-4143-eda2-255eca4def05"
      },
      "execution_count": 5,
      "outputs": [
        {
          "output_type": "execute_result",
          "data": {
            "text/plain": [
              "Brand                   0\n",
              "Model                   0\n",
              "Case Material           0\n",
              "Strap Material          0\n",
              "Movement Type           0\n",
              "Water Resistance        0\n",
              "Case Diameter (mm)      0\n",
              "Case Thickness (mm)     0\n",
              "Band Width (mm)         0\n",
              "Dial Color              0\n",
              "Crystal Material        0\n",
              "Complications           0\n",
              "Power Reserve          14\n",
              "Price (USD)             1\n",
              "dtype: int64"
            ]
          },
          "metadata": {},
          "execution_count": 5
        }
      ]
    },
    {
      "cell_type": "code",
      "source": [
        "df=df.dropna()"
      ],
      "metadata": {
        "id": "LUTibXc4FBnt"
      },
      "execution_count": 6,
      "outputs": []
    },
    {
      "cell_type": "code",
      "source": [
        "df.isnull().sum()"
      ],
      "metadata": {
        "colab": {
          "base_uri": "https://localhost:8080/"
        },
        "id": "EfqOytVIFIku",
        "outputId": "06772042-f528-4414-db56-b4344ee3a248"
      },
      "execution_count": 7,
      "outputs": [
        {
          "output_type": "execute_result",
          "data": {
            "text/plain": [
              "Brand                  0\n",
              "Model                  0\n",
              "Case Material          0\n",
              "Strap Material         0\n",
              "Movement Type          0\n",
              "Water Resistance       0\n",
              "Case Diameter (mm)     0\n",
              "Case Thickness (mm)    0\n",
              "Band Width (mm)        0\n",
              "Dial Color             0\n",
              "Crystal Material       0\n",
              "Complications          0\n",
              "Power Reserve          0\n",
              "Price (USD)            0\n",
              "dtype: int64"
            ]
          },
          "metadata": {},
          "execution_count": 7
        }
      ]
    },
    {
      "cell_type": "code",
      "source": [
        "df['Brand'].value_counts()"
      ],
      "metadata": {
        "colab": {
          "base_uri": "https://localhost:8080/"
        },
        "id": "_kJQF4zxF2d2",
        "outputId": "7615ac09-6f9a-4e9e-d583-4ba0f7982a71"
      },
      "execution_count": 8,
      "outputs": [
        {
          "output_type": "execute_result",
          "data": {
            "text/plain": [
              "IWC                    39\n",
              "Audemars Piguet        38\n",
              "Patek Philippe         33\n",
              "Zenith                 30\n",
              "Blancpain              29\n",
              "Rolex                  27\n",
              "Hublot                 26\n",
              "Breguet                26\n",
              "Panerai                25\n",
              "Vacheron Constantin    25\n",
              "Omega                  23\n",
              "Girard-Perregaux       20\n",
              "Jaeger-LeCoultre       16\n",
              "Breitling              16\n",
              "Tudor                  14\n",
              "Cartier                13\n",
              "Chopard                12\n",
              "Ulysse Nardin          10\n",
              "Longines                9\n",
              "Montblanc               9\n",
              "Tag Heuer               8\n",
              "Piaget                  6\n",
              "Seiko                   5\n",
              "Jaquet Droz             5\n",
              "Hamilton                4\n",
              "Sinn                    3\n",
              "Bulgari                 3\n",
              "Bell & Ross             3\n",
              "Frederique Constant     2\n",
              "TAG Heuer               2\n",
              "Citizen                 2\n",
              "Tissot                  2\n",
              "Oris                    2\n",
              "A. Lange & Söhne        2\n",
              "Glashütte Original      1\n",
              "A. Lange & Sohne        1\n",
              "Baume & Mercier         1\n",
              "Name: Brand, dtype: int64"
            ]
          },
          "metadata": {},
          "execution_count": 8
        }
      ]
    },
    {
      "cell_type": "code",
      "source": [
        "df['Model'].value_counts()"
      ],
      "metadata": {
        "colab": {
          "base_uri": "https://localhost:8080/"
        },
        "id": "q9U4bjd3GIgD",
        "outputId": "d94aca85-6b37-4657-f7b5-fc3ecaefcae0"
      },
      "execution_count": 9,
      "outputs": [
        {
          "output_type": "execute_result",
          "data": {
            "text/plain": [
              "Royal Oak             38\n",
              "Fifty Fathoms         29\n",
              "Nautilus              26\n",
              "Portugieser           24\n",
              "Classique             24\n",
              "                      ..\n",
              "Aviation               1\n",
              "Big Crown ProPilot     1\n",
              "Marine Torpilleur      1\n",
              "U50                    1\n",
              "Polo                   1\n",
              "Name: Model, Length: 89, dtype: int64"
            ]
          },
          "metadata": {},
          "execution_count": 9
        }
      ]
    },
    {
      "cell_type": "code",
      "source": [
        "df['Price (USD)'].value_counts()"
      ],
      "metadata": {
        "colab": {
          "base_uri": "https://localhost:8080/"
        },
        "id": "IH1jYbNlHOYw",
        "outputId": "b2dae0bd-7f2d-496b-a68f-e7e0220d793d"
      },
      "execution_count": 10,
      "outputs": [
        {
          "output_type": "execute_result",
          "data": {
            "text/plain": [
              "7,500     26\n",
              "6,500     22\n",
              "9,500     16\n",
              "4,500     11\n",
              "5,500     11\n",
              "          ..\n",
              "20,500     1\n",
              "13,900     1\n",
              "9,950      1\n",
              "2,200      1\n",
              "35,000     1\n",
              "Name: Price (USD), Length: 179, dtype: int64"
            ]
          },
          "metadata": {},
          "execution_count": 10
        }
      ]
    },
    {
      "cell_type": "code",
      "source": [
        "df.rename(columns = {'Price (USD)':'Price'}, inplace = True)"
      ],
      "metadata": {
        "colab": {
          "base_uri": "https://localhost:8080/"
        },
        "id": "tlWX-lFAGZ1B",
        "outputId": "275c3c66-9950-490a-d865-247972deaf67"
      },
      "execution_count": 11,
      "outputs": [
        {
          "output_type": "stream",
          "name": "stderr",
          "text": [
            "<ipython-input-11-4a7e1209e4b7>:1: SettingWithCopyWarning: \n",
            "A value is trying to be set on a copy of a slice from a DataFrame\n",
            "\n",
            "See the caveats in the documentation: https://pandas.pydata.org/pandas-docs/stable/user_guide/indexing.html#returning-a-view-versus-a-copy\n",
            "  df.rename(columns = {'Price (USD)':'Price'}, inplace = True)\n"
          ]
        }
      ]
    },
    {
      "cell_type": "code",
      "source": [
        "df['Price']=df['Price'].str.replace(',','').astype(int)"
      ],
      "metadata": {
        "colab": {
          "base_uri": "https://localhost:8080/"
        },
        "id": "hPCrBD3oGhtD",
        "outputId": "279b05dc-74cf-4a60-ccba-b6f11c7ad916"
      },
      "execution_count": 12,
      "outputs": [
        {
          "output_type": "stream",
          "name": "stderr",
          "text": [
            "<ipython-input-12-6c07cc7499ae>:1: SettingWithCopyWarning: \n",
            "A value is trying to be set on a copy of a slice from a DataFrame.\n",
            "Try using .loc[row_indexer,col_indexer] = value instead\n",
            "\n",
            "See the caveats in the documentation: https://pandas.pydata.org/pandas-docs/stable/user_guide/indexing.html#returning-a-view-versus-a-copy\n",
            "  df['Price']=df['Price'].str.replace(',','').astype(int)\n"
          ]
        }
      ]
    },
    {
      "cell_type": "code",
      "source": [
        "df['Power Reserve']=df['Power Reserve'].str.split(\" \").str.get(0).str.replace(',','')"
      ],
      "metadata": {
        "colab": {
          "base_uri": "https://localhost:8080/"
        },
        "id": "Kqx3nP3RIhzA",
        "outputId": "63c27567-aaf3-4a1d-cc5e-37c0fbc42ece"
      },
      "execution_count": 13,
      "outputs": [
        {
          "output_type": "stream",
          "name": "stderr",
          "text": [
            "<ipython-input-13-3e63ddc4f3fa>:1: SettingWithCopyWarning: \n",
            "A value is trying to be set on a copy of a slice from a DataFrame.\n",
            "Try using .loc[row_indexer,col_indexer] = value instead\n",
            "\n",
            "See the caveats in the documentation: https://pandas.pydata.org/pandas-docs/stable/user_guide/indexing.html#returning-a-view-versus-a-copy\n",
            "  df['Power Reserve']=df['Power Reserve'].str.split(\" \").str.get(0).str.replace(',','')\n"
          ]
        }
      ]
    },
    {
      "cell_type": "code",
      "source": [
        "df=df[df['Power Reserve'].str.isnumeric()]"
      ],
      "metadata": {
        "id": "ILfog8J0JxVB"
      },
      "execution_count": 14,
      "outputs": []
    },
    {
      "cell_type": "code",
      "source": [
        "df['Power Reserve']=df['Power Reserve'].astype(int)"
      ],
      "metadata": {
        "id": "gCuR3OHHLWYb"
      },
      "execution_count": 15,
      "outputs": []
    },
    {
      "cell_type": "code",
      "source": [
        "df.info()"
      ],
      "metadata": {
        "colab": {
          "base_uri": "https://localhost:8080/"
        },
        "id": "PjDlWY5QMGNw",
        "outputId": "10eb8d90-3ade-47bc-8419-32a69c34fe2b"
      },
      "execution_count": 16,
      "outputs": [
        {
          "output_type": "stream",
          "name": "stdout",
          "text": [
            "<class 'pandas.core.frame.DataFrame'>\n",
            "Int64Index: 492 entries, 0 to 506\n",
            "Data columns (total 14 columns):\n",
            " #   Column               Non-Null Count  Dtype  \n",
            "---  ------               --------------  -----  \n",
            " 0   Brand                492 non-null    object \n",
            " 1   Model                492 non-null    object \n",
            " 2   Case Material        492 non-null    object \n",
            " 3   Strap Material       492 non-null    object \n",
            " 4   Movement Type        492 non-null    object \n",
            " 5   Water Resistance     492 non-null    object \n",
            " 6   Case Diameter (mm)   492 non-null    float64\n",
            " 7   Case Thickness (mm)  492 non-null    float64\n",
            " 8   Band Width (mm)      492 non-null    float64\n",
            " 9   Dial Color           492 non-null    object \n",
            " 10  Crystal Material     492 non-null    object \n",
            " 11  Complications        492 non-null    object \n",
            " 12  Power Reserve        492 non-null    int64  \n",
            " 13  Price                492 non-null    int64  \n",
            "dtypes: float64(3), int64(2), object(9)\n",
            "memory usage: 57.7+ KB\n"
          ]
        }
      ]
    },
    {
      "cell_type": "code",
      "source": [
        "df['Water Resistance']=df['Water Resistance'].str.split(\" \").str.get(0)"
      ],
      "metadata": {
        "id": "u-ktqYPFMJnx"
      },
      "execution_count": 17,
      "outputs": []
    },
    {
      "cell_type": "code",
      "source": [
        "df['Water Resistance']=df['Water Resistance'].astype(int)"
      ],
      "metadata": {
        "id": "R2dAiWurMmDT"
      },
      "execution_count": 18,
      "outputs": []
    },
    {
      "cell_type": "code",
      "source": [
        "df.info()"
      ],
      "metadata": {
        "colab": {
          "base_uri": "https://localhost:8080/"
        },
        "id": "NNGFN_nlM356",
        "outputId": "17ec674f-724e-4438-96b5-ef6672fdaaa8"
      },
      "execution_count": 19,
      "outputs": [
        {
          "output_type": "stream",
          "name": "stdout",
          "text": [
            "<class 'pandas.core.frame.DataFrame'>\n",
            "Int64Index: 492 entries, 0 to 506\n",
            "Data columns (total 14 columns):\n",
            " #   Column               Non-Null Count  Dtype  \n",
            "---  ------               --------------  -----  \n",
            " 0   Brand                492 non-null    object \n",
            " 1   Model                492 non-null    object \n",
            " 2   Case Material        492 non-null    object \n",
            " 3   Strap Material       492 non-null    object \n",
            " 4   Movement Type        492 non-null    object \n",
            " 5   Water Resistance     492 non-null    int64  \n",
            " 6   Case Diameter (mm)   492 non-null    float64\n",
            " 7   Case Thickness (mm)  492 non-null    float64\n",
            " 8   Band Width (mm)      492 non-null    float64\n",
            " 9   Dial Color           492 non-null    object \n",
            " 10  Crystal Material     492 non-null    object \n",
            " 11  Complications        492 non-null    object \n",
            " 12  Power Reserve        492 non-null    int64  \n",
            " 13  Price                492 non-null    int64  \n",
            "dtypes: float64(3), int64(3), object(8)\n",
            "memory usage: 57.7+ KB\n"
          ]
        }
      ]
    },
    {
      "cell_type": "code",
      "source": [],
      "metadata": {
        "id": "Uqh_d5ICM537"
      },
      "execution_count": 19,
      "outputs": []
    },
    {
      "cell_type": "markdown",
      "source": [
        "**Model Development**"
      ],
      "metadata": {
        "id": "irp2RogQNCAH"
      }
    },
    {
      "cell_type": "code",
      "source": [
        "df.corr()"
      ],
      "metadata": {
        "colab": {
          "base_uri": "https://localhost:8080/",
          "height": 238
        },
        "id": "6oT1kCDBNHH3",
        "outputId": "e73abcea-3b7a-4e75-c50c-7150943d83cf"
      },
      "execution_count": 20,
      "outputs": [
        {
          "output_type": "execute_result",
          "data": {
            "text/plain": [
              "                     Water Resistance  Case Diameter (mm)  \\\n",
              "Water Resistance             1.000000            0.360129   \n",
              "Case Diameter (mm)           0.360129            1.000000   \n",
              "Case Thickness (mm)          0.383099            0.608405   \n",
              "Band Width (mm)              0.215401            0.605720   \n",
              "Power Reserve                0.182225            0.360744   \n",
              "Price                       -0.133765           -0.138307   \n",
              "\n",
              "                     Case Thickness (mm)  Band Width (mm)  Power Reserve  \\\n",
              "Water Resistance                0.383099         0.215401       0.182225   \n",
              "Case Diameter (mm)              0.608405         0.605720       0.360744   \n",
              "Case Thickness (mm)             1.000000         0.406197       0.358037   \n",
              "Band Width (mm)                 0.406197         1.000000       0.303327   \n",
              "Power Reserve                   0.358037         0.303327       1.000000   \n",
              "Price                          -0.451627        -0.114961      -0.037000   \n",
              "\n",
              "                        Price  \n",
              "Water Resistance    -0.133765  \n",
              "Case Diameter (mm)  -0.138307  \n",
              "Case Thickness (mm) -0.451627  \n",
              "Band Width (mm)     -0.114961  \n",
              "Power Reserve       -0.037000  \n",
              "Price                1.000000  "
            ],
            "text/html": [
              "\n",
              "  <div id=\"df-98a66b34-6ae5-41bf-838e-e897be0df528\">\n",
              "    <div class=\"colab-df-container\">\n",
              "      <div>\n",
              "<style scoped>\n",
              "    .dataframe tbody tr th:only-of-type {\n",
              "        vertical-align: middle;\n",
              "    }\n",
              "\n",
              "    .dataframe tbody tr th {\n",
              "        vertical-align: top;\n",
              "    }\n",
              "\n",
              "    .dataframe thead th {\n",
              "        text-align: right;\n",
              "    }\n",
              "</style>\n",
              "<table border=\"1\" class=\"dataframe\">\n",
              "  <thead>\n",
              "    <tr style=\"text-align: right;\">\n",
              "      <th></th>\n",
              "      <th>Water Resistance</th>\n",
              "      <th>Case Diameter (mm)</th>\n",
              "      <th>Case Thickness (mm)</th>\n",
              "      <th>Band Width (mm)</th>\n",
              "      <th>Power Reserve</th>\n",
              "      <th>Price</th>\n",
              "    </tr>\n",
              "  </thead>\n",
              "  <tbody>\n",
              "    <tr>\n",
              "      <th>Water Resistance</th>\n",
              "      <td>1.000000</td>\n",
              "      <td>0.360129</td>\n",
              "      <td>0.383099</td>\n",
              "      <td>0.215401</td>\n",
              "      <td>0.182225</td>\n",
              "      <td>-0.133765</td>\n",
              "    </tr>\n",
              "    <tr>\n",
              "      <th>Case Diameter (mm)</th>\n",
              "      <td>0.360129</td>\n",
              "      <td>1.000000</td>\n",
              "      <td>0.608405</td>\n",
              "      <td>0.605720</td>\n",
              "      <td>0.360744</td>\n",
              "      <td>-0.138307</td>\n",
              "    </tr>\n",
              "    <tr>\n",
              "      <th>Case Thickness (mm)</th>\n",
              "      <td>0.383099</td>\n",
              "      <td>0.608405</td>\n",
              "      <td>1.000000</td>\n",
              "      <td>0.406197</td>\n",
              "      <td>0.358037</td>\n",
              "      <td>-0.451627</td>\n",
              "    </tr>\n",
              "    <tr>\n",
              "      <th>Band Width (mm)</th>\n",
              "      <td>0.215401</td>\n",
              "      <td>0.605720</td>\n",
              "      <td>0.406197</td>\n",
              "      <td>1.000000</td>\n",
              "      <td>0.303327</td>\n",
              "      <td>-0.114961</td>\n",
              "    </tr>\n",
              "    <tr>\n",
              "      <th>Power Reserve</th>\n",
              "      <td>0.182225</td>\n",
              "      <td>0.360744</td>\n",
              "      <td>0.358037</td>\n",
              "      <td>0.303327</td>\n",
              "      <td>1.000000</td>\n",
              "      <td>-0.037000</td>\n",
              "    </tr>\n",
              "    <tr>\n",
              "      <th>Price</th>\n",
              "      <td>-0.133765</td>\n",
              "      <td>-0.138307</td>\n",
              "      <td>-0.451627</td>\n",
              "      <td>-0.114961</td>\n",
              "      <td>-0.037000</td>\n",
              "      <td>1.000000</td>\n",
              "    </tr>\n",
              "  </tbody>\n",
              "</table>\n",
              "</div>\n",
              "      <button class=\"colab-df-convert\" onclick=\"convertToInteractive('df-98a66b34-6ae5-41bf-838e-e897be0df528')\"\n",
              "              title=\"Convert this dataframe to an interactive table.\"\n",
              "              style=\"display:none;\">\n",
              "        \n",
              "  <svg xmlns=\"http://www.w3.org/2000/svg\" height=\"24px\"viewBox=\"0 0 24 24\"\n",
              "       width=\"24px\">\n",
              "    <path d=\"M0 0h24v24H0V0z\" fill=\"none\"/>\n",
              "    <path d=\"M18.56 5.44l.94 2.06.94-2.06 2.06-.94-2.06-.94-.94-2.06-.94 2.06-2.06.94zm-11 1L8.5 8.5l.94-2.06 2.06-.94-2.06-.94L8.5 2.5l-.94 2.06-2.06.94zm10 10l.94 2.06.94-2.06 2.06-.94-2.06-.94-.94-2.06-.94 2.06-2.06.94z\"/><path d=\"M17.41 7.96l-1.37-1.37c-.4-.4-.92-.59-1.43-.59-.52 0-1.04.2-1.43.59L10.3 9.45l-7.72 7.72c-.78.78-.78 2.05 0 2.83L4 21.41c.39.39.9.59 1.41.59.51 0 1.02-.2 1.41-.59l7.78-7.78 2.81-2.81c.8-.78.8-2.07 0-2.86zM5.41 20L4 18.59l7.72-7.72 1.47 1.35L5.41 20z\"/>\n",
              "  </svg>\n",
              "      </button>\n",
              "      \n",
              "  <style>\n",
              "    .colab-df-container {\n",
              "      display:flex;\n",
              "      flex-wrap:wrap;\n",
              "      gap: 12px;\n",
              "    }\n",
              "\n",
              "    .colab-df-convert {\n",
              "      background-color: #E8F0FE;\n",
              "      border: none;\n",
              "      border-radius: 50%;\n",
              "      cursor: pointer;\n",
              "      display: none;\n",
              "      fill: #1967D2;\n",
              "      height: 32px;\n",
              "      padding: 0 0 0 0;\n",
              "      width: 32px;\n",
              "    }\n",
              "\n",
              "    .colab-df-convert:hover {\n",
              "      background-color: #E2EBFA;\n",
              "      box-shadow: 0px 1px 2px rgba(60, 64, 67, 0.3), 0px 1px 3px 1px rgba(60, 64, 67, 0.15);\n",
              "      fill: #174EA6;\n",
              "    }\n",
              "\n",
              "    [theme=dark] .colab-df-convert {\n",
              "      background-color: #3B4455;\n",
              "      fill: #D2E3FC;\n",
              "    }\n",
              "\n",
              "    [theme=dark] .colab-df-convert:hover {\n",
              "      background-color: #434B5C;\n",
              "      box-shadow: 0px 1px 3px 1px rgba(0, 0, 0, 0.15);\n",
              "      filter: drop-shadow(0px 1px 2px rgba(0, 0, 0, 0.3));\n",
              "      fill: #FFFFFF;\n",
              "    }\n",
              "  </style>\n",
              "\n",
              "      <script>\n",
              "        const buttonEl =\n",
              "          document.querySelector('#df-98a66b34-6ae5-41bf-838e-e897be0df528 button.colab-df-convert');\n",
              "        buttonEl.style.display =\n",
              "          google.colab.kernel.accessAllowed ? 'block' : 'none';\n",
              "\n",
              "        async function convertToInteractive(key) {\n",
              "          const element = document.querySelector('#df-98a66b34-6ae5-41bf-838e-e897be0df528');\n",
              "          const dataTable =\n",
              "            await google.colab.kernel.invokeFunction('convertToInteractive',\n",
              "                                                     [key], {});\n",
              "          if (!dataTable) return;\n",
              "\n",
              "          const docLinkHtml = 'Like what you see? Visit the ' +\n",
              "            '<a target=\"_blank\" href=https://colab.research.google.com/notebooks/data_table.ipynb>data table notebook</a>'\n",
              "            + ' to learn more about interactive tables.';\n",
              "          element.innerHTML = '';\n",
              "          dataTable['output_type'] = 'display_data';\n",
              "          await google.colab.output.renderOutput(dataTable, element);\n",
              "          const docLink = document.createElement('div');\n",
              "          docLink.innerHTML = docLinkHtml;\n",
              "          element.appendChild(docLink);\n",
              "        }\n",
              "      </script>\n",
              "    </div>\n",
              "  </div>\n",
              "  "
            ]
          },
          "metadata": {},
          "execution_count": 20
        }
      ]
    },
    {
      "cell_type": "code",
      "source": [
        "\n",
        "from sklearn.preprocessing import LabelEncoder"
      ],
      "metadata": {
        "id": "Yzhn5jVdNJPb"
      },
      "execution_count": 21,
      "outputs": []
    },
    {
      "cell_type": "code",
      "source": [
        "le=LabelEncoder()\n",
        "df['Brand']=le.fit_transform(df['Brand'])\n"
      ],
      "metadata": {
        "id": "y-si7Kx1NWtD"
      },
      "execution_count": 22,
      "outputs": []
    },
    {
      "cell_type": "code",
      "source": [
        "df.info()"
      ],
      "metadata": {
        "colab": {
          "base_uri": "https://localhost:8080/"
        },
        "id": "Uk1-K801Nfe_",
        "outputId": "b4ad9dfe-4809-4e11-f0f0-cb959df67845"
      },
      "execution_count": 23,
      "outputs": [
        {
          "output_type": "stream",
          "name": "stdout",
          "text": [
            "<class 'pandas.core.frame.DataFrame'>\n",
            "Int64Index: 492 entries, 0 to 506\n",
            "Data columns (total 14 columns):\n",
            " #   Column               Non-Null Count  Dtype  \n",
            "---  ------               --------------  -----  \n",
            " 0   Brand                492 non-null    int64  \n",
            " 1   Model                492 non-null    object \n",
            " 2   Case Material        492 non-null    object \n",
            " 3   Strap Material       492 non-null    object \n",
            " 4   Movement Type        492 non-null    object \n",
            " 5   Water Resistance     492 non-null    int64  \n",
            " 6   Case Diameter (mm)   492 non-null    float64\n",
            " 7   Case Thickness (mm)  492 non-null    float64\n",
            " 8   Band Width (mm)      492 non-null    float64\n",
            " 9   Dial Color           492 non-null    object \n",
            " 10  Crystal Material     492 non-null    object \n",
            " 11  Complications        492 non-null    object \n",
            " 12  Power Reserve        492 non-null    int64  \n",
            " 13  Price                492 non-null    int64  \n",
            "dtypes: float64(3), int64(4), object(7)\n",
            "memory usage: 57.7+ KB\n"
          ]
        }
      ]
    },
    {
      "cell_type": "code",
      "source": [],
      "metadata": {
        "id": "jjPaT5BJRFOr"
      },
      "execution_count": 23,
      "outputs": []
    }
  ]
}